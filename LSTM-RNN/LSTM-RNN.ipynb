{
 "cells": [
  {
   "cell_type": "code",
   "execution_count": 130,
   "id": "eae55aca",
   "metadata": {},
   "outputs": [],
   "source": [
    "import numpy as np\n",
    "import pandas as pd\n",
    "import seaborn as sns\n",
    "import matplotlib.pyplot as plt\n",
    "import Clean_CSV"
   ]
  },
  {
   "cell_type": "code",
   "execution_count": 131,
   "id": "0e0e7663",
   "metadata": {},
   "outputs": [],
   "source": [
    "import os\n",
    "from torch import nn\n",
    "from torch.utils.data import DataLoader\n",
    "from torchvision import datasets, transforms"
   ]
  },
  {
   "cell_type": "code",
   "execution_count": 132,
   "id": "668ef2a8",
   "metadata": {},
   "outputs": [],
   "source": [
    "%reload_ext autoreload\n",
    "%aimport Clean_CSV\n",
    "\n",
    "cases_list = ['b03','b06','b09','bi001','bi01','bi1','da001','da01','da1']\n",
    "\n",
    "cases_listmulti = ['b06pm','b09pm','bi001pm','bi01pm','da01pm']\n"
   ]
  },
  {
   "cell_type": "code",
   "execution_count": 133,
   "id": "56a4d569",
   "metadata": {},
   "outputs": [
    {
     "name": "stdout",
     "output_type": "stream",
     "text": [
      "dataframe loaded:'b03_csv'\n",
      "dataframe loaded:'b06_csv'\n",
      "dataframe loaded:'b09_csv'\n",
      "dataframe loaded:'bi001_csv'\n",
      "dataframe loaded:'bi01_csv'\n",
      "dataframe loaded:'bi1_csv'\n",
      "dataframe loaded:'da001_csv'\n",
      "dataframe loaded:'da01_csv'\n",
      "dataframe loaded:'da1_csv'\n"
     ]
    }
   ],
   "source": [
    "## Volume-Gamma data for 3-drop cases\n",
    "\n",
    "csv_file = ['RawData/' + elem + '_GVol.csv' for elem in cases_list]\n",
    "csv_names = [elem + '_csv' for elem in cases_list]\n",
    "\n",
    "for csv, name in zip(csv_file,csv_names):\n",
    "    exec(f\"{name} = pd.read_csv('{csv}')\")\n",
    "    print('dataframe loaded:' + f\"'{name}'\")"
   ]
  },
  {
   "cell_type": "code",
   "execution_count": 134,
   "id": "95e3d486",
   "metadata": {},
   "outputs": [
    {
     "name": "stdout",
     "output_type": "stream",
     "text": [
      "dataframe loaded:'b06pm_csv'\n",
      "dataframe loaded:'b09pm_csv'\n",
      "dataframe loaded:'bi001pm_csv'\n",
      "dataframe loaded:'bi01pm_csv'\n",
      "dataframe loaded:'da01pm_csv'\n"
     ]
    }
   ],
   "source": [
    "## Volume-Gamma data for multi-drop cases\n",
    "\n",
    "csv_filemulti = ['RawData/' + elem + '_GVol.csv' for elem in cases_listmulti]\n",
    "csv_names_multi = [elem + '_csv' for elem in cases_listmulti]\n",
    "\n",
    "for csv, name in zip(csv_filemulti,csv_names_multi):\n",
    "    exec(f\"{name} = pd.read_csv('{csv}')\")\n",
    "    print('dataframe loaded:' + f\"'{name}'\")\n"
   ]
  },
  {
   "cell_type": "code",
   "execution_count": 135,
   "id": "3388ed5c",
   "metadata": {
    "scrolled": false
   },
   "outputs": [
    {
     "name": "stdout",
     "output_type": "stream",
     "text": [
      "dataframe cleaned:'df_b03'\n",
      "dataframe cleaned:'df_b06'\n",
      "dataframe cleaned:'df_b09'\n",
      "dataframe cleaned:'df_bi001'\n",
      "dataframe cleaned:'df_bi01'\n",
      "dataframe cleaned:'df_bi1'\n",
      "dataframe cleaned:'df_da001'\n",
      "dataframe cleaned:'df_da01'\n",
      "dataframe cleaned:'df_da1'\n",
      "dataframe cleaned:'df_b06pm'\n",
      "dataframe cleaned:'df_b09pm'\n",
      "dataframe cleaned:'df_bi001pm'\n",
      "dataframe cleaned:'df_bi01pm'\n",
      "dataframe cleaned:'df_da01pm'\n"
     ]
    }
   ],
   "source": [
    "## Dataframe cleanup\n",
    "\n",
    "df_namescl = ['df_' + elem for elem in cases_list]\n",
    "\n",
    "df_namescl_multi = ['df_' + elem for elem in cases_listmulti]\n",
    "\n",
    "for dfname,csvname in zip(df_namescl,csv_names):\n",
    "    exec(f\"{dfname} = Clean_CSV.clean_csv({csvname},list({csvname}.columns.values)[1:3])\")\n",
    "    print('dataframe cleaned:' + f\"'{dfname}'\")\n",
    "    \n",
    "for dfname,csvname in zip(df_namescl_multi,csv_names_multi):\n",
    "    exec(f\"{dfname} = Clean_CSV.clean_csv({csvname},list({csvname}.columns.values)[1:3])\")\n",
    "    print('dataframe cleaned:' + f\"'{dfname}'\")\n",
    "\n"
   ]
  },
  {
   "cell_type": "code",
   "execution_count": 152,
   "id": "2ecec297",
   "metadata": {},
   "outputs": [
    {
     "name": "stdout",
     "output_type": "stream",
     "text": [
      "file loaded:'Nd_b03_csv'\n",
      "file loaded:'Nd_b06_csv'\n",
      "file loaded:'Nd_b09_csv'\n",
      "file loaded:'Nd_bi001_csv'\n",
      "file loaded:'Nd_bi01_csv'\n",
      "file loaded:'Nd_bi1_csv'\n",
      "file loaded:'Nd_da001_csv'\n",
      "file loaded:'Nd_da01_csv'\n",
      "file loaded:'Nd_da1_csv'\n"
     ]
    }
   ],
   "source": [
    "## Number of drops data for 3-drop\n",
    "\n",
    "Nd_names = ['Nd_' + elem for elem in csv_names]\n",
    "Nd_csv_file = ['RawData/Nd/' + elem + '_dnum_corr.csv' for elem in cases_list]\n",
    "\n",
    "\n",
    "for Nd,csv in zip(Nd_names,Nd_csv_file):\n",
    "    df = pd.read_csv(csv)\n",
    "    label_list = list(df.columns.values)\n",
    "    df.rename(columns={label_list[0]: 'Ndrops'}, inplace=True)\n",
    "    exec(f\"{Nd} = df\")\n",
    "    print('file loaded:' + f\"'{Nd}'\")\n"
   ]
  },
  {
   "cell_type": "code",
   "execution_count": 150,
   "id": "8d212724",
   "metadata": {},
   "outputs": [
    {
     "name": "stdout",
     "output_type": "stream",
     "text": [
      "file loaded:'Nd_b06pm_csv'\n",
      "file loaded:'Nd_b09pm_csv'\n",
      "file loaded:'Nd_bi001pm_csv'\n",
      "file loaded:'Nd_bi01pm_csv'\n",
      "file loaded:'Nd_da01pm_csv'\n"
     ]
    }
   ],
   "source": [
    "## Number of drops data for multi-drop\n",
    "\n",
    "Nd_names_multi = ['Nd_' + elem for elem in csv_names_multi]\n",
    "Nd_csv_file_multi = ['RawData/Nd/' + elem + '_dnum_corr.csv' for elem in cases_listmulti]\n",
    "\n",
    "\n",
    "for Nd,csv in zip(Nd_names_multi,Nd_csv_file_multi):\n",
    "    df = pd.read_csv(csv)\n",
    "    label_list = list(df.columns.values)\n",
    "    df.rename(columns={label_list[0]: 'Ndrops'}, inplace=True)\n",
    "    exec(f\"{Nd} = df\")\n",
    "    print('file loaded:' + f\"'{Nd}'\")\n"
   ]
  },
  {
   "cell_type": "code",
   "execution_count": 151,
   "id": "8d218a45",
   "metadata": {},
   "outputs": [
    {
     "data": {
      "text/html": [
       "<div>\n",
       "<style scoped>\n",
       "    .dataframe tbody tr th:only-of-type {\n",
       "        vertical-align: middle;\n",
       "    }\n",
       "\n",
       "    .dataframe tbody tr th {\n",
       "        vertical-align: top;\n",
       "    }\n",
       "\n",
       "    .dataframe thead th {\n",
       "        text-align: right;\n",
       "    }\n",
       "</style>\n",
       "<table border=\"1\" class=\"dataframe\">\n",
       "  <thead>\n",
       "    <tr style=\"text-align: right;\">\n",
       "      <th></th>\n",
       "      <th>Ndrops</th>\n",
       "    </tr>\n",
       "  </thead>\n",
       "  <tbody>\n",
       "    <tr>\n",
       "      <th>0</th>\n",
       "      <td>160</td>\n",
       "    </tr>\n",
       "    <tr>\n",
       "      <th>1</th>\n",
       "      <td>160</td>\n",
       "    </tr>\n",
       "    <tr>\n",
       "      <th>2</th>\n",
       "      <td>160</td>\n",
       "    </tr>\n",
       "    <tr>\n",
       "      <th>3</th>\n",
       "      <td>160</td>\n",
       "    </tr>\n",
       "    <tr>\n",
       "      <th>4</th>\n",
       "      <td>160</td>\n",
       "    </tr>\n",
       "    <tr>\n",
       "      <th>...</th>\n",
       "      <td>...</td>\n",
       "    </tr>\n",
       "    <tr>\n",
       "      <th>230</th>\n",
       "      <td>4833</td>\n",
       "    </tr>\n",
       "    <tr>\n",
       "      <th>231</th>\n",
       "      <td>4870</td>\n",
       "    </tr>\n",
       "    <tr>\n",
       "      <th>232</th>\n",
       "      <td>4896</td>\n",
       "    </tr>\n",
       "    <tr>\n",
       "      <th>233</th>\n",
       "      <td>4915</td>\n",
       "    </tr>\n",
       "    <tr>\n",
       "      <th>234</th>\n",
       "      <td>4946</td>\n",
       "    </tr>\n",
       "  </tbody>\n",
       "</table>\n",
       "<p>235 rows × 1 columns</p>\n",
       "</div>"
      ],
      "text/plain": [
       "     Ndrops\n",
       "0       160\n",
       "1       160\n",
       "2       160\n",
       "3       160\n",
       "4       160\n",
       "..      ...\n",
       "230    4833\n",
       "231    4870\n",
       "232    4896\n",
       "233    4915\n",
       "234    4946\n",
       "\n",
       "[235 rows x 1 columns]"
      ]
     },
     "execution_count": 151,
     "metadata": {},
     "output_type": "execute_result"
    }
   ],
   "source": [
    "Nd_b03_csv"
   ]
  },
  {
   "cell_type": "code",
   "execution_count": null,
   "id": "df051acb",
   "metadata": {},
   "outputs": [],
   "source": []
  }
 ],
 "metadata": {
  "kernelspec": {
   "display_name": "Python 3 (ipykernel)",
   "language": "python",
   "name": "python3"
  },
  "language_info": {
   "codemirror_mode": {
    "name": "ipython",
    "version": 3
   },
   "file_extension": ".py",
   "mimetype": "text/x-python",
   "name": "python",
   "nbconvert_exporter": "python",
   "pygments_lexer": "ipython3",
   "version": "3.9.16"
  }
 },
 "nbformat": 4,
 "nbformat_minor": 5
}
