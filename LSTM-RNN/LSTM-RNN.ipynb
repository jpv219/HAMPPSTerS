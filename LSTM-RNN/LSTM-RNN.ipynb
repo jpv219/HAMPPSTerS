{
 "cells": [
  {
   "cell_type": "code",
   "execution_count": 46,
   "id": "eae55aca",
   "metadata": {},
   "outputs": [],
   "source": [
    "import numpy as np\n",
    "import pandas as pd\n",
    "import seaborn as sns\n",
    "import matplotlib.pyplot as plt\n",
    "import Clean_CSV"
   ]
  },
  {
   "cell_type": "code",
   "execution_count": 47,
   "id": "0e0e7663",
   "metadata": {},
   "outputs": [],
   "source": [
    "import os\n",
    "from torch import nn\n",
    "from torch.utils.data import DataLoader\n",
    "from torchvision import datasets, transforms"
   ]
  },
  {
   "cell_type": "code",
   "execution_count": 48,
   "id": "668ef2a8",
   "metadata": {},
   "outputs": [],
   "source": [
    "%reload_ext autoreload\n",
    "%aimport Clean_CSV"
   ]
  },
  {
   "cell_type": "code",
   "execution_count": 49,
   "id": "56a4d569",
   "metadata": {},
   "outputs": [],
   "source": [
    "b03_csv = pd.read_csv('RawData/b03_GVol.csv')\n",
    "b06_csv = pd.read_csv('RawData/b06_GVol.csv')\n",
    "b09_csv = pd.read_csv('RawData/b09_GVol.csv')\n",
    "bi001_csv = pd.read_csv('RawData/bi001_GVol.csv')\n",
    "bi01_csv = pd.read_csv('RawData/bi01_GVol.csv')\n",
    "bi1_csv = pd.read_csv('RawData/bi1_GVol.csv')\n",
    "da001_csv = pd.read_csv('RawData/da001_GVol.csv')\n",
    "da01_csv = pd.read_csv('RawData/da01_GVol.csv')\n",
    "da1_csv = pd.read_csv('RawData/da1_GVol.csv')"
   ]
  },
  {
   "cell_type": "code",
   "execution_count": 50,
   "id": "95e3d486",
   "metadata": {},
   "outputs": [],
   "source": [
    "b06_pm_csv = pd.read_csv('RawData/b06pm_GVol.csv')\n",
    "b09_pm_csv = pd.read_csv('RawData/b09pm_GVol.csv')\n",
    "bi01_pm_csv = pd.read_csv('RawData/bi01pm_GVol.csv')\n",
    "bi001_pm_csv = pd.read_csv('RawData/bi001pm_GVol.csv')\n",
    "da01_pm_csv = pd.read_csv('RawData/da01pm_GVol.csv')"
   ]
  },
  {
   "cell_type": "code",
   "execution_count": 51,
   "id": "3388ed5c",
   "metadata": {
    "scrolled": true
   },
   "outputs": [],
   "source": [
    "df_b03 = Clean_CSV.clean_csv(b03_csv,list(b03_csv.columns.values)[1:3])\n",
    "df_b06 = Clean_CSV.clean_csv(b06_csv,list(b06_csv.columns.values)[1:3])\n",
    "df_b09 = Clean_CSV.clean_csv(b09_csv,list(b09_csv.columns.values)[1:3])\n",
    "df_bi001 = Clean_CSV.clean_csv(bi001_csv,list(bi001_csv.columns.values)[1:3])\n",
    "df_bi01 = Clean_CSV.clean_csv(bi01_csv,list(bi01_csv.columns.values)[1:3])\n",
    "df_bi1 = Clean_CSV.clean_csv(bi1_csv,list(bi1_csv.columns.values)[1:3])\n",
    "df_da001 = Clean_CSV.clean_csv(da001_csv,list(da001_csv.columns.values)[1:3])\n",
    "df_da01 = Clean_CSV.clean_csv(da01_csv,list(da01_csv.columns.values)[1:3])\n",
    "df_da1 = Clean_CSV.clean_csv(da1_csv,list(da1_csv.columns.values)[1:3])\n",
    "\n",
    "df_b06_pm = Clean_CSV.clean_csv(b06_pm_csv,list(b06_pm_csv.columns.values)[1:3])\n",
    "df_b09_pm = Clean_CSV.clean_csv(b09_pm_csv,list(b09_pm_csv.columns.values)[1:3])\n",
    "df_bi01_pm = Clean_CSV.clean_csv(bi01_pm_csv,list(bi01_pm_csv.columns.values)[1:3])\n",
    "df_bi001_pm = Clean_CSV.clean_csv(bi001_pm_csv,list(bi001_pm_csv.columns.values)[1:3])\n",
    "df_da01_pm = Clean_CSV.clean_csv(da01_pm_csv,list(da01_pm_csv.columns.values)[1:3])"
   ]
  },
  {
   "cell_type": "code",
   "execution_count": 53,
   "id": "2ecec297",
   "metadata": {},
   "outputs": [
    {
     "data": {
      "text/html": [
       "<div>\n",
       "<style scoped>\n",
       "    .dataframe tbody tr th:only-of-type {\n",
       "        vertical-align: middle;\n",
       "    }\n",
       "\n",
       "    .dataframe tbody tr th {\n",
       "        vertical-align: top;\n",
       "    }\n",
       "\n",
       "    .dataframe thead th {\n",
       "        text-align: right;\n",
       "    }\n",
       "</style>\n",
       "<table border=\"1\" class=\"dataframe\">\n",
       "  <thead>\n",
       "    <tr style=\"text-align: right;\">\n",
       "      <th></th>\n",
       "      <th>Time</th>\n",
       "      <th>Volume</th>\n",
       "      <th>Gammatilde</th>\n",
       "    </tr>\n",
       "  </thead>\n",
       "  <tbody>\n",
       "    <tr>\n",
       "      <th>0</th>\n",
       "      <td>0.005</td>\n",
       "      <td>[4.17637465e-09, 2.13463051e-09, 4.17639879e-0...</td>\n",
       "      <td>[0.49759326, 0.49727504, 0.49759528, 0.4972976...</td>\n",
       "    </tr>\n",
       "    <tr>\n",
       "      <th>1</th>\n",
       "      <td>0.010</td>\n",
       "      <td>[4.17661811e-09, 2.13474573e-09, 4.17658626e-0...</td>\n",
       "      <td>[0.49336439, 0.49267856, 0.4933801, 0.49269192...</td>\n",
       "    </tr>\n",
       "    <tr>\n",
       "      <th>2</th>\n",
       "      <td>0.015</td>\n",
       "      <td>[4.17678911e-09, 2.13481442e-09, 4.17678721e-0...</td>\n",
       "      <td>[0.48776453, 0.48654867, 0.48778903, 0.4865600...</td>\n",
       "    </tr>\n",
       "    <tr>\n",
       "      <th>3</th>\n",
       "      <td>0.020</td>\n",
       "      <td>[4.17691949e-09, 2.13489416e-09, 4.17690302e-0...</td>\n",
       "      <td>[0.48085327, 0.4790596, 0.48087508, 0.4790838,...</td>\n",
       "    </tr>\n",
       "    <tr>\n",
       "      <th>4</th>\n",
       "      <td>0.025</td>\n",
       "      <td>[4.17708419e-09, 2.13485894e-09, 2.13490583e-0...</td>\n",
       "      <td>[0.47288962, 0.47060716, 0.47067769, 0.4729012...</td>\n",
       "    </tr>\n",
       "    <tr>\n",
       "      <th>...</th>\n",
       "      <td>...</td>\n",
       "      <td>...</td>\n",
       "      <td>...</td>\n",
       "    </tr>\n",
       "    <tr>\n",
       "      <th>109</th>\n",
       "      <td>0.550</td>\n",
       "      <td>[1.97803544e-08, 5.61322215e-13, 1.96066265e-1...</td>\n",
       "      <td>[0.05710892, 0.01876402, 0.07033006, 0.0286069...</td>\n",
       "    </tr>\n",
       "    <tr>\n",
       "      <th>110</th>\n",
       "      <td>0.555</td>\n",
       "      <td>[1.97803544e-08, 5.61322215e-13, 1.96066265e-1...</td>\n",
       "      <td>[0.05710892, 0.01876402, 0.07033006, 0.0286069...</td>\n",
       "    </tr>\n",
       "    <tr>\n",
       "      <th>111</th>\n",
       "      <td>0.560</td>\n",
       "      <td>[1.97803544e-08, 5.61322215e-13, 1.96066265e-1...</td>\n",
       "      <td>[0.05710892, 0.01876402, 0.07033006, 0.0286069...</td>\n",
       "    </tr>\n",
       "    <tr>\n",
       "      <th>112</th>\n",
       "      <td>0.565</td>\n",
       "      <td>[1.97803544e-08, 5.61322215e-13, 1.96066265e-1...</td>\n",
       "      <td>[0.05710892, 0.01876402, 0.07033006, 0.0286069...</td>\n",
       "    </tr>\n",
       "    <tr>\n",
       "      <th>113</th>\n",
       "      <td>0.570</td>\n",
       "      <td>[1.97803544e-08, 5.61322215e-13, 1.96066265e-1...</td>\n",
       "      <td>[0.05710892, 0.01876402, 0.07033006, 0.0286069...</td>\n",
       "    </tr>\n",
       "  </tbody>\n",
       "</table>\n",
       "<p>114 rows × 3 columns</p>\n",
       "</div>"
      ],
      "text/plain": [
       "      Time                                             Volume   \n",
       "0    0.005  [4.17637465e-09, 2.13463051e-09, 4.17639879e-0...  \\\n",
       "1    0.010  [4.17661811e-09, 2.13474573e-09, 4.17658626e-0...   \n",
       "2    0.015  [4.17678911e-09, 2.13481442e-09, 4.17678721e-0...   \n",
       "3    0.020  [4.17691949e-09, 2.13489416e-09, 4.17690302e-0...   \n",
       "4    0.025  [4.17708419e-09, 2.13485894e-09, 2.13490583e-0...   \n",
       "..     ...                                                ...   \n",
       "109  0.550  [1.97803544e-08, 5.61322215e-13, 1.96066265e-1...   \n",
       "110  0.555  [1.97803544e-08, 5.61322215e-13, 1.96066265e-1...   \n",
       "111  0.560  [1.97803544e-08, 5.61322215e-13, 1.96066265e-1...   \n",
       "112  0.565  [1.97803544e-08, 5.61322215e-13, 1.96066265e-1...   \n",
       "113  0.570  [1.97803544e-08, 5.61322215e-13, 1.96066265e-1...   \n",
       "\n",
       "                                            Gammatilde  \n",
       "0    [0.49759326, 0.49727504, 0.49759528, 0.4972976...  \n",
       "1    [0.49336439, 0.49267856, 0.4933801, 0.49269192...  \n",
       "2    [0.48776453, 0.48654867, 0.48778903, 0.4865600...  \n",
       "3    [0.48085327, 0.4790596, 0.48087508, 0.4790838,...  \n",
       "4    [0.47288962, 0.47060716, 0.47067769, 0.4729012...  \n",
       "..                                                 ...  \n",
       "109  [0.05710892, 0.01876402, 0.07033006, 0.0286069...  \n",
       "110  [0.05710892, 0.01876402, 0.07033006, 0.0286069...  \n",
       "111  [0.05710892, 0.01876402, 0.07033006, 0.0286069...  \n",
       "112  [0.05710892, 0.01876402, 0.07033006, 0.0286069...  \n",
       "113  [0.05710892, 0.01876402, 0.07033006, 0.0286069...  \n",
       "\n",
       "[114 rows x 3 columns]"
      ]
     },
     "execution_count": 53,
     "metadata": {},
     "output_type": "execute_result"
    }
   ],
   "source": [
    "da01_pm_csv"
   ]
  },
  {
   "cell_type": "code",
   "execution_count": null,
   "id": "651a8b86",
   "metadata": {},
   "outputs": [],
   "source": []
  }
 ],
 "metadata": {
  "kernelspec": {
   "display_name": "Python 3 (ipykernel)",
   "language": "python",
   "name": "python3"
  },
  "language_info": {
   "codemirror_mode": {
    "name": "ipython",
    "version": 3
   },
   "file_extension": ".py",
   "mimetype": "text/x-python",
   "name": "python",
   "nbconvert_exporter": "python",
   "pygments_lexer": "ipython3",
   "version": "3.9.16"
  }
 },
 "nbformat": 4,
 "nbformat_minor": 5
}
