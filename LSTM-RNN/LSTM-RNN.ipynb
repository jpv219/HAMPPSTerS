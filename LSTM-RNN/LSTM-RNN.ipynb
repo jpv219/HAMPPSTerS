{
 "cells": [
  {
   "cell_type": "code",
   "execution_count": 33,
   "id": "eae55aca",
   "metadata": {},
   "outputs": [],
   "source": [
    "import numpy as np\n",
    "import pandas as pd\n",
    "import seaborn as sns\n",
    "import matplotlib.pyplot as plt\n",
    "import Clean_CSV"
   ]
  },
  {
   "cell_type": "code",
   "execution_count": 57,
   "id": "0e0e7663",
   "metadata": {},
   "outputs": [],
   "source": [
    "import os\n",
    "from torch import nn\n",
    "from torch.utils.data import DataLoader\n",
    "from torchvision import datasets, transforms\n",
    "import torch"
   ]
  },
  {
   "cell_type": "code",
   "execution_count": 35,
   "id": "668ef2a8",
   "metadata": {},
   "outputs": [],
   "source": [
    "%reload_ext autoreload\n",
    "%aimport Clean_CSV\n",
    "\n",
    "cases_list = ['b03','b06','b09','bi001','bi01','bi1','da001','da01','da1']\n",
    "\n",
    "cases_listmulti = ['b06pm','b09pm','bi001pm','bi01pm','da01pm']\n"
   ]
  },
  {
   "cell_type": "markdown",
   "id": "51bfd0c4",
   "metadata": {},
   "source": [
    "# Loading, Cleaning Volume-Gamma-Nd dataframes"
   ]
  },
  {
   "cell_type": "code",
   "execution_count": 36,
   "id": "56a4d569",
   "metadata": {},
   "outputs": [
    {
     "name": "stdout",
     "output_type": "stream",
     "text": [
      "dataframe loaded:'b03_csv'\n",
      "dataframe loaded:'b06_csv'\n",
      "dataframe loaded:'b09_csv'\n",
      "dataframe loaded:'bi001_csv'\n",
      "dataframe loaded:'bi01_csv'\n",
      "dataframe loaded:'bi1_csv'\n",
      "dataframe loaded:'da001_csv'\n",
      "dataframe loaded:'da01_csv'\n",
      "dataframe loaded:'da1_csv'\n"
     ]
    }
   ],
   "source": [
    "## Volume-Gamma data for 3-drop cases\n",
    "\n",
    "csv_file = ['RawData/' + elem + '_GVol.csv' for elem in cases_list]\n",
    "csv_names = [elem + '_csv' for elem in cases_list]\n",
    "\n",
    "for csv, name in zip(csv_file,csv_names):\n",
    "    exec(f\"{name} = pd.read_csv('{csv}')\")\n",
    "    print('dataframe loaded:' + f\"'{name}'\")"
   ]
  },
  {
   "cell_type": "code",
   "execution_count": 37,
   "id": "95e3d486",
   "metadata": {},
   "outputs": [
    {
     "name": "stdout",
     "output_type": "stream",
     "text": [
      "dataframe loaded:'b06pm_csv'\n",
      "dataframe loaded:'b09pm_csv'\n",
      "dataframe loaded:'bi001pm_csv'\n",
      "dataframe loaded:'bi01pm_csv'\n",
      "dataframe loaded:'da01pm_csv'\n"
     ]
    }
   ],
   "source": [
    "## Volume-Gamma data for multi-drop cases\n",
    "\n",
    "csv_filemulti = ['RawData/' + elem + '_GVol.csv' for elem in cases_listmulti]\n",
    "csv_names_multi = [elem + '_csv' for elem in cases_listmulti]\n",
    "\n",
    "for csv, name in zip(csv_filemulti,csv_names_multi):\n",
    "    exec(f\"{name} = pd.read_csv('{csv}')\")\n",
    "    print('dataframe loaded:' + f\"'{name}'\")\n"
   ]
  },
  {
   "cell_type": "code",
   "execution_count": 38,
   "id": "3388ed5c",
   "metadata": {
    "scrolled": false
   },
   "outputs": [
    {
     "name": "stdout",
     "output_type": "stream",
     "text": [
      "dataframe cleaned:'df_b03'\n",
      "dataframe cleaned:'df_b06'\n",
      "dataframe cleaned:'df_b09'\n",
      "dataframe cleaned:'df_bi001'\n",
      "dataframe cleaned:'df_bi01'\n",
      "dataframe cleaned:'df_bi1'\n",
      "dataframe cleaned:'df_da001'\n",
      "dataframe cleaned:'df_da01'\n",
      "dataframe cleaned:'df_da1'\n",
      "dataframe cleaned:'df_b06pm'\n",
      "dataframe cleaned:'df_b09pm'\n",
      "dataframe cleaned:'df_bi001pm'\n",
      "dataframe cleaned:'df_bi01pm'\n",
      "dataframe cleaned:'df_da01pm'\n"
     ]
    }
   ],
   "source": [
    "## Dataframe cleanup\n",
    "\n",
    "df_namescl = ['df_' + elem for elem in cases_list]\n",
    "\n",
    "df_namescl_multi = ['df_' + elem for elem in cases_listmulti]\n",
    "\n",
    "for dfname,csvname in zip(df_namescl,csv_names):\n",
    "    exec(f\"{dfname} = Clean_CSV.clean_csv({csvname},list({csvname}.columns.values)[1:3])\")\n",
    "    print('dataframe cleaned:' + f\"'{dfname}'\")\n",
    "    \n",
    "for dfname,csvname in zip(df_namescl_multi,csv_names_multi):\n",
    "    exec(f\"{dfname} = Clean_CSV.clean_csv({csvname},list({csvname}.columns.values)[1:3])\")\n",
    "    print('dataframe cleaned:' + f\"'{dfname}'\")\n",
    "\n"
   ]
  },
  {
   "cell_type": "code",
   "execution_count": 39,
   "id": "2ecec297",
   "metadata": {},
   "outputs": [
    {
     "name": "stdout",
     "output_type": "stream",
     "text": [
      "file loaded:'Nd_b03_csv'\n",
      "file loaded:'Nd_b06_csv'\n",
      "file loaded:'Nd_b09_csv'\n",
      "file loaded:'Nd_bi001_csv'\n",
      "file loaded:'Nd_bi01_csv'\n",
      "file loaded:'Nd_bi1_csv'\n",
      "file loaded:'Nd_da001_csv'\n",
      "file loaded:'Nd_da01_csv'\n",
      "file loaded:'Nd_da1_csv'\n"
     ]
    }
   ],
   "source": [
    "## Number of drops data for 3-drop\n",
    "\n",
    "Nd_names = ['Nd_' + elem for elem in csv_names]\n",
    "Nd_csv_file = ['RawData/Nd/' + elem + '_dnum_corr.csv' for elem in cases_list]\n",
    "\n",
    "\n",
    "for Nd,csv in zip(Nd_names,Nd_csv_file):\n",
    "    df = pd.read_csv(csv)\n",
    "    label_list = list(df.columns.values)\n",
    "    df.rename(columns={label_list[0]: 'Ndrops'}, inplace=True)\n",
    "    df['Time'] = df.apply(lambda row: row.name*0.005,axis=1)\n",
    "    df = df[['Time','Ndrops']]\n",
    "    exec(f\"{Nd} = df\")\n",
    "    print('file loaded:' + f\"'{Nd}'\")\n"
   ]
  },
  {
   "cell_type": "code",
   "execution_count": 40,
   "id": "978cc6fd",
   "metadata": {},
   "outputs": [
    {
     "name": "stdout",
     "output_type": "stream",
     "text": [
      "file loaded:'Nd_b06pm_csv'\n",
      "file loaded:'Nd_b09pm_csv'\n",
      "file loaded:'Nd_bi001pm_csv'\n",
      "file loaded:'Nd_bi01pm_csv'\n",
      "file loaded:'Nd_da01pm_csv'\n"
     ]
    }
   ],
   "source": [
    "## Number of drops data for multi-drop\n",
    "\n",
    "Nd_names_multi = ['Nd_' + elem for elem in csv_names_multi]\n",
    "Nd_csv_file_multi = ['RawData/Nd/' + elem + '_dnum_corr.csv' for elem in cases_listmulti]\n",
    "\n",
    "\n",
    "for Nd,csv in zip(Nd_names_multi,Nd_csv_file_multi):\n",
    "    df = pd.read_csv(csv)\n",
    "    label_list = list(df.columns.values)\n",
    "    df.rename(columns={label_list[0]: 'Ndrops'}, inplace=True)\n",
    "    df['Time'] = df.apply(lambda row: row.name*0.005,axis=1)\n",
    "    df = df[['Time','Ndrops']]\n",
    "    exec(f\"{Nd} = df\")\n",
    "    print('file loaded:' + f\"'{Nd}'\")\n"
   ]
  },
  {
   "cell_type": "code",
   "execution_count": 41,
   "id": "f17641d7",
   "metadata": {},
   "outputs": [
    {
     "data": {
      "text/html": [
       "<div>\n",
       "<style scoped>\n",
       "    .dataframe tbody tr th:only-of-type {\n",
       "        vertical-align: middle;\n",
       "    }\n",
       "\n",
       "    .dataframe tbody tr th {\n",
       "        vertical-align: top;\n",
       "    }\n",
       "\n",
       "    .dataframe thead th {\n",
       "        text-align: right;\n",
       "    }\n",
       "</style>\n",
       "<table border=\"1\" class=\"dataframe\">\n",
       "  <thead>\n",
       "    <tr style=\"text-align: right;\">\n",
       "      <th></th>\n",
       "      <th>Time</th>\n",
       "      <th>Ndrops</th>\n",
       "    </tr>\n",
       "  </thead>\n",
       "  <tbody>\n",
       "    <tr>\n",
       "      <th>0</th>\n",
       "      <td>0.000</td>\n",
       "      <td>3</td>\n",
       "    </tr>\n",
       "    <tr>\n",
       "      <th>1</th>\n",
       "      <td>0.005</td>\n",
       "      <td>3</td>\n",
       "    </tr>\n",
       "    <tr>\n",
       "      <th>2</th>\n",
       "      <td>0.010</td>\n",
       "      <td>3</td>\n",
       "    </tr>\n",
       "    <tr>\n",
       "      <th>3</th>\n",
       "      <td>0.015</td>\n",
       "      <td>3</td>\n",
       "    </tr>\n",
       "    <tr>\n",
       "      <th>4</th>\n",
       "      <td>0.020</td>\n",
       "      <td>3</td>\n",
       "    </tr>\n",
       "    <tr>\n",
       "      <th>...</th>\n",
       "      <td>...</td>\n",
       "      <td>...</td>\n",
       "    </tr>\n",
       "    <tr>\n",
       "      <th>115</th>\n",
       "      <td>0.575</td>\n",
       "      <td>354</td>\n",
       "    </tr>\n",
       "    <tr>\n",
       "      <th>116</th>\n",
       "      <td>0.580</td>\n",
       "      <td>362</td>\n",
       "    </tr>\n",
       "    <tr>\n",
       "      <th>117</th>\n",
       "      <td>0.585</td>\n",
       "      <td>361</td>\n",
       "    </tr>\n",
       "    <tr>\n",
       "      <th>118</th>\n",
       "      <td>0.590</td>\n",
       "      <td>367</td>\n",
       "    </tr>\n",
       "    <tr>\n",
       "      <th>119</th>\n",
       "      <td>0.595</td>\n",
       "      <td>366</td>\n",
       "    </tr>\n",
       "  </tbody>\n",
       "</table>\n",
       "<p>120 rows × 2 columns</p>\n",
       "</div>"
      ],
      "text/plain": [
       "      Time  Ndrops\n",
       "0    0.000       3\n",
       "1    0.005       3\n",
       "2    0.010       3\n",
       "3    0.015       3\n",
       "4    0.020       3\n",
       "..     ...     ...\n",
       "115  0.575     354\n",
       "116  0.580     362\n",
       "117  0.585     361\n",
       "118  0.590     367\n",
       "119  0.595     366\n",
       "\n",
       "[120 rows x 2 columns]"
      ]
     },
     "execution_count": 41,
     "metadata": {},
     "output_type": "execute_result"
    }
   ],
   "source": [
    "Nd_b03_csv"
   ]
  },
  {
   "cell_type": "markdown",
   "id": "077bc92d",
   "metadata": {},
   "source": [
    "# RNN-LSTM with PyTorch\n",
    "## Training and testing number of drops for a single case"
   ]
  },
  {
   "cell_type": "code",
   "execution_count": 42,
   "id": "4a94ed0c",
   "metadata": {
    "scrolled": true
   },
   "outputs": [
    {
     "data": {
      "image/png": "[encoded data removed]",
      "text/plain": [
       "<Figure size 640x480 with 1 Axes>"
      ]
     },
     "metadata": {},
     "output_type": "display_data"
    }
   ],
   "source": [
    "timeseries = Nd_b03_csv[['Ndrops']].values.astype('float32')\n",
    "plt.plot(timeseries)\n",
    "plt.show()"
   ]
  },
  {
   "cell_type": "code",
   "execution_count": 49,
   "id": "30cb1f90",
   "metadata": {},
   "outputs": [],
   "source": [
    "# OPTIONAL detrending and normalizing the linear trend\n",
    "from sklearn.linear_model import LinearRegression\n",
    "X = np.arange(len(timeseries)).reshape(-1, 1)\n",
    "y = timeseries.reshape(-1, 1)\n",
    "\n",
    "model = LinearRegression()\n",
    "model.fit(X, y)\n",
    "\n",
    "trend = model.predict(X)\n",
    "\n",
    "detrended = y - trend\n",
    "\n",
    "min_val = np.min(detrended)\n",
    "max_val = np.max(detrended)\n",
    "\n",
    "normalized = (detrended - min_val) / (max_val - min_val)"
   ]
  },
  {
   "cell_type": "code",
   "execution_count": 51,
   "id": "814bf85e",
   "metadata": {},
   "outputs": [
    {
     "data": {
      "image/png": "[encoded data removed]",
      "text/plain": [
       "<Figure size 640x480 with 1 Axes>"
      ]
     },
     "metadata": {},
     "output_type": "display_data"
    }
   ],
   "source": [
    "plt.plot(normalized)\n",
    "plt.show()"
   ]
  },
  {
   "cell_type": "code",
   "execution_count": 52,
   "id": "2cda631a",
   "metadata": {},
   "outputs": [],
   "source": [
    "# train-test split for time series\n",
    "train_size = int(len(timeseries) * 0.67)\n",
    "test_size = len(timeseries) - train_size\n",
    "train, test = timeseries[:train_size], timeseries[train_size:]"
   ]
  },
  {
   "cell_type": "code",
   "execution_count": null,
   "id": "097fdb36",
   "metadata": {},
   "outputs": [],
   "source": []
  }
 ],
 "metadata": {
  "kernelspec": {
   "display_name": "Python 3 (ipykernel)",
   "language": "python",
   "name": "python3"
  },
  "language_info": {
   "codemirror_mode": {
    "name": "ipython",
    "version": 3
   },
   "file_extension": ".py",
   "mimetype": "text/x-python",
   "name": "python",
   "nbconvert_exporter": "python",
   "pygments_lexer": "ipython3",
   "version": "3.9.16"
  }
 },
 "nbformat": 4,
 "nbformat_minor": 5
}
