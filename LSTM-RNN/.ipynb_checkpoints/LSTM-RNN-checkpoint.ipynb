{
 "cells": [
  {
   "cell_type": "code",
   "execution_count": 130,
   "id": "eae55aca",
   "metadata": {},
   "outputs": [],
   "source": [
    "import numpy as np\n",
    "import pandas as pd\n",
    "import seaborn as sns\n",
    "import matplotlib.pyplot as plt\n",
    "import Clean_CSV"
   ]
  },
  {
   "cell_type": "code",
   "execution_count": 131,
   "id": "0e0e7663",
   "metadata": {},
   "outputs": [],
   "source": [
    "import os\n",
    "from torch import nn\n",
    "from torch.utils.data import DataLoader\n",
    "from torchvision import datasets, transforms"
   ]
  },
  {
   "cell_type": "code",
   "execution_count": 132,
   "id": "668ef2a8",
   "metadata": {},
   "outputs": [],
   "source": [
    "%reload_ext autoreload\n",
    "%aimport Clean_CSV\n",
    "\n",
    "cases_list = ['b03','b06','b09','bi001','bi01','bi1','da001','da01','da1']\n",
    "\n",
    "cases_listmulti = ['b06pm','b09pm','bi001pm','bi01pm','da01pm']\n"
   ]
  },
  {
   "cell_type": "code",
   "execution_count": 133,
   "id": "56a4d569",
   "metadata": {},
   "outputs": [
    {
     "name": "stdout",
     "output_type": "stream",
     "text": [
      "dataframe loaded:'b03_csv'\n",
      "dataframe loaded:'b06_csv'\n",
      "dataframe loaded:'b09_csv'\n",
      "dataframe loaded:'bi001_csv'\n",
      "dataframe loaded:'bi01_csv'\n",
      "dataframe loaded:'bi1_csv'\n",
      "dataframe loaded:'da001_csv'\n",
      "dataframe loaded:'da01_csv'\n",
      "dataframe loaded:'da1_csv'\n"
     ]
    }
   ],
   "source": [
    "## Volume-Gamma data for 3-drop cases\n",
    "\n",
    "csv_file = ['RawData/' + elem + '_GVol.csv' for elem in cases_list]\n",
    "csv_names = [elem + '_csv' for elem in cases_list]\n",
    "\n",
    "for csv, name in zip(csv_file,csv_names):\n",
    "    exec(f\"{name} = pd.read_csv('{csv}')\")\n",
    "    print('dataframe loaded:' + f\"'{name}'\")"
   ]
  },
  {
   "cell_type": "code",
   "execution_count": 134,
   "id": "95e3d486",
   "metadata": {},
   "outputs": [
    {
     "name": "stdout",
     "output_type": "stream",
     "text": [
      "dataframe loaded:'b06pm_csv'\n",
      "dataframe loaded:'b09pm_csv'\n",
      "dataframe loaded:'bi001pm_csv'\n",
      "dataframe loaded:'bi01pm_csv'\n",
      "dataframe loaded:'da01pm_csv'\n"
     ]
    }
   ],
   "source": [
    "## Volume-Gamma data for multi-drop cases\n",
    "\n",
    "csv_filemulti = ['RawData/' + elem + '_GVol.csv' for elem in cases_listmulti]\n",
    "csv_names_multi = [elem + '_csv' for elem in cases_listmulti]\n",
    "\n",
    "for csv, name in zip(csv_filemulti,csv_names_multi):\n",
    "    exec(f\"{name} = pd.read_csv('{csv}')\")\n",
    "    print('dataframe loaded:' + f\"'{name}'\")\n"
   ]
  },
  {
   "cell_type": "code",
   "execution_count": 135,
   "id": "3388ed5c",
   "metadata": {
    "scrolled": false
   },
   "outputs": [
    {
     "name": "stdout",
     "output_type": "stream",
     "text": [
      "dataframe cleaned:'df_b03'\n",
      "dataframe cleaned:'df_b06'\n",
      "dataframe cleaned:'df_b09'\n",
      "dataframe cleaned:'df_bi001'\n",
      "dataframe cleaned:'df_bi01'\n",
      "dataframe cleaned:'df_bi1'\n",
      "dataframe cleaned:'df_da001'\n",
      "dataframe cleaned:'df_da01'\n",
      "dataframe cleaned:'df_da1'\n",
      "dataframe cleaned:'df_b06pm'\n",
      "dataframe cleaned:'df_b09pm'\n",
      "dataframe cleaned:'df_bi001pm'\n",
      "dataframe cleaned:'df_bi01pm'\n",
      "dataframe cleaned:'df_da01pm'\n"
     ]
    }
   ],
   "source": [
    "## Dataframe cleanup\n",
    "\n",
    "df_namescl = ['df_' + elem for elem in cases_list]\n",
    "\n",
    "df_namescl_multi = ['df_' + elem for elem in cases_listmulti]\n",
    "\n",
    "for dfname,csvname in zip(df_namescl,csv_names):\n",
    "    exec(f\"{dfname} = Clean_CSV.clean_csv({csvname},list({csvname}.columns.values)[1:3])\")\n",
    "    print('dataframe cleaned:' + f\"'{dfname}'\")\n",
    "    \n",
    "for dfname,csvname in zip(df_namescl_multi,csv_names_multi):\n",
    "    exec(f\"{dfname} = Clean_CSV.clean_csv({csvname},list({csvname}.columns.values)[1:3])\")\n",
    "    print('dataframe cleaned:' + f\"'{dfname}'\")\n",
    "\n"
   ]
  },
  {
   "cell_type": "code",
   "execution_count": 138,
   "id": "2ecec297",
   "metadata": {},
   "outputs": [
    {
     "name": "stdout",
     "output_type": "stream",
     "text": [
      "file loaded:'Nd_b03_csv'\n",
      "file loaded:'Nd_b06_csv'\n",
      "file loaded:'Nd_b09_csv'\n",
      "file loaded:'Nd_bi001_csv'\n",
      "file loaded:'Nd_bi01_csv'\n",
      "file loaded:'Nd_bi1_csv'\n",
      "file loaded:'Nd_da001_csv'\n",
      "file loaded:'Nd_da01_csv'\n",
      "file loaded:'Nd_da1_csv'\n"
     ]
    }
   ],
   "source": [
    "## Number of drops data for 3-drop\n",
    "\n",
    "Nd_names = ['Nd_' + elem for elem in csv_names]\n",
    "Nd_csv_file = ['RawData/Nd/' + elem + '_dnum_corr.csv' for elem in cases_list]\n",
    "\n",
    "\n",
    "for Nd,csv in zip(Nd_names,Nd_csv_file):\n",
    "    exec(f\"{Nd} = pd.read_csv('{csv}')\")\n",
    "    \n",
    "    print('file loaded:' + f\"'{Nd}'\")\n"
   ]
  },
  {
   "cell_type": "code",
   "execution_count": 146,
   "id": "70655e77",
   "metadata": {},
   "outputs": [
    {
     "name": "stdout",
     "output_type": "stream",
     "text": [
      "file loaded:'Nd_b06pm_csv'\n",
      "file loaded:'Nd_b09pm_csv'\n",
      "file loaded:'Nd_bi001pm_csv'\n",
      "file loaded:'Nd_bi01pm_csv'\n",
      "file loaded:'Nd_da01pm_csv'\n"
     ]
    }
   ],
   "source": [
    "## Number of drops data for multi-drop\n",
    "\n",
    "Nd_names_multi = ['Nd_' + elem for elem in csv_names_multi]\n",
    "Nd_csv_file_multi = ['RawData/Nd/' + elem + '_dnum_corr.csv' for elem in cases_listmulti]\n",
    "\n",
    "\n",
    "for Nd,csv in zip(Nd_names_multi,Nd_csv_file_multi):\n",
    "    exec(f\"{Nd} = pd.read_csv('{csv}')\")\n",
    "    print('file loaded:' + f\"'{Nd}'\")\n"
   ]
  },
  {
   "cell_type": "code",
   "execution_count": 143,
   "id": "f98f1d22",
   "metadata": {},
   "outputs": [
    {
     "data": {
      "text/plain": [
       "['3']"
      ]
     },
     "execution_count": 143,
     "metadata": {},
     "output_type": "execute_result"
    }
   ],
   "source": [
    "label_list = list(Nd_b03_csv.columns.values)\n",
    "label_list"
   ]
  },
  {
   "cell_type": "code",
   "execution_count": null,
   "id": "5fafde5a",
   "metadata": {},
   "outputs": [],
   "source": []
  }
 ],
 "metadata": {
  "kernelspec": {
   "display_name": "Python 3 (ipykernel)",
   "language": "python",
   "name": "python3"
  },
  "language_info": {
   "codemirror_mode": {
    "name": "ipython",
    "version": 3
   },
   "file_extension": ".py",
   "mimetype": "text/x-python",
   "name": "python",
   "nbconvert_exporter": "python",
   "pygments_lexer": "ipython3",
   "version": "3.9.16"
  }
 },
 "nbformat": 4,
 "nbformat_minor": 5
}
